version https://git-lfs.github.com/spec/v1
oid sha256:27f440adb0ecc62bdf89a04ccb8c2e04463a58025bdf5b981a7af2ad04f3edca
size 509471
