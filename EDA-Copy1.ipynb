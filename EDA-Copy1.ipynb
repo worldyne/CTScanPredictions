{
 "cells": [
  {
   "cell_type": "code",
   "execution_count": null,
   "metadata": {},
   "outputs": [],
   "source": [
    "\n",
    "import pydicom\n",
    "import med2image\n",
    "import pandas as pd\n",
    "import numpy as np\n",
    "import matplotlib.pyplot as plt\n",
    "%matplotlib inline\n",
    "import tensorflow as tf\n",
    "keras = tf.keras\n",
    "import boto3\n",
    "import os\n",
    "import pathlib\n",
    "import dicom\n",
    "import dicom_numpy\n",
    "import PIL\n",
    "import dill as pickle"
   ]
  },
  {
   "cell_type": "code",
   "execution_count": null,
   "metadata": {},
   "outputs": [],
   "source": [
    "!ls"
   ]
  },
  {
   "cell_type": "code",
   "execution_count": null,
   "metadata": {},
   "outputs": [],
   "source": [
    "df_labels = pd.read_csv('reads.csv')\n",
    "df_labels.T"
   ]
  },
  {
   "cell_type": "code",
   "execution_count": null,
   "metadata": {},
   "outputs": [],
   "source": [
    "ich = {'ich': [col for col in df_labels.columns if 'ICH' in col]}\n",
    "iph = {'iph': [col for col in df_labels.columns if 'IPH' in col]}\n",
    "ivh= {'ivh': [col for col in df_labels.columns if 'IVH' in col]}\n",
    "sdh = {'sdh': [col for col in df_labels.columns if 'SDH' in col]}\n",
    "edh = {'edh': [col for col in df_labels.columns if 'EDH' in col]}\n",
    "sah = {'sah': [col for col in df_labels.columns if 'SAH' in col]}\n",
    "bll =  {'bll': [col for col in df_labels.columns if 'Left' in col]}\n",
    "blr = {'blr': [col for col in df_labels.columns if 'Right' in col]}\n",
    "cb = {'cb': [col for col in df_labels.columns if 'ChronicBleed' in col]}\n",
    "cfracture = {'cfracture': [col for col in df_labels.columns if 'CalvarialFracture' in col]}\n",
    "ofracture = {'ofracture': [col for col in df_labels.columns if 'OtherFracture' in col]}\n",
    "ma = {'ma': [col for col in df_labels.columns if 'MassEffect' in col]}\n",
    "ms = {'ms': [col for col in df_labels.columns if 'MidlineShift' in col]}\n",
    "cols = [ich, iph, ivh, sdh, edh, sah, bll, blr, cb, cfracture, ofracture, ma, ms]\n",
    "\n",
    "\n",
    "for col in cols:\n",
    "\n",
    "    df_labels[next(iter(col.keys()))] = df_labels[next(iter(col.values()))].apply(sum, axis=1)"
   ]
  },
  {
   "cell_type": "code",
   "execution_count": null,
   "metadata": {},
   "outputs": [],
   "source": [
    "drop_columns = [col for col in df_labels.columns if 'R1' in col or 'R2' in col or 'R3' in col]"
   ]
  },
  {
   "cell_type": "code",
   "execution_count": null,
   "metadata": {},
   "outputs": [],
   "source": [
    "df_labels = df_labels.drop(drop_columns, axis=1)"
   ]
  },
  {
   "cell_type": "code",
   "execution_count": null,
   "metadata": {},
   "outputs": [],
   "source": [
    "df_labels.T"
   ]
  },
  {
   "cell_type": "code",
   "execution_count": null,
   "metadata": {},
   "outputs": [],
   "source": [
    "for i, row in df_labels.iterrows():\n",
    "    for j, col in enumerate(df_labels.columns):\n",
    "\n",
    "        \n",
    "        if 'CQ' in str(row.iloc[j]) or 'B' in str(row.iloc[j]):\n",
    "            pass\n",
    "        elif int(row.iloc[j]) > 2:\n",
    "            df_labels.iloc[i,j] = 1\n",
    "        else:\n",
    "            df_labels.iloc[i, j] = 0"
   ]
  },
  {
   "cell_type": "code",
   "execution_count": null,
   "metadata": {},
   "outputs": [],
   "source": [
    "df_labels.T"
   ]
  },
  {
   "cell_type": "code",
   "execution_count": null,
   "metadata": {},
   "outputs": [],
   "source": [
    "file = df_labels['name'][0]\n",
    "filename = file + ' ' + file\n",
    "def extract_voxel_data(list_of_dicom_files):\n",
    "    datasets = [pydicom.read_file(f) for f in list_of_dicom_files]\n",
    "    try:\n",
    "        voxel_ndarray, ijk_to_xyz = dicom_numpy.combine_slices(datasets)\n",
    "    except dicom_numpy.DicomImportException as e:\n",
    "        # invalid DICOM data\n",
    "        raise\n",
    "    return voxel_ndarray"
   ]
  },
  {
   "cell_type": "code",
   "execution_count": null,
   "metadata": {
    "scrolled": true
   },
   "outputs": [],
   "source": [
    "\n",
    "\n",
    "root = './data/'\n",
    "filenames = []\n",
    "\n",
    "from pathlib import Path\n",
    "result = list(Path(\".\").rglob(\"*.dcm\"))\n",
    "result = [str(path) for path in result]\n",
    "\n",
    "\n",
    "\n",
    "\n"
   ]
  },
  {
   "cell_type": "code",
   "execution_count": null,
   "metadata": {},
   "outputs": [],
   "source": [
    "data = {}\n",
    "current_img = None\n",
    "images = []\n",
    "for image in result:\n",
    "    \n",
    "    if current_img == None:\n",
    "        current_img = image[:-12]\n",
    "    \n",
    "    if image[:-12] == current_img:\n",
    "        images.append(image)\n",
    "        \n",
    "    else:\n",
    "\n",
    "        try:\n",
    "            data[current_img] = extract_voxel_data(images)\n",
    "            current_img = image[:-12]\n",
    "            images = []\n",
    "            images.append(image)\n",
    "        except:\n",
    "            continue\n"
   ]
  },
  {
   "cell_type": "code",
   "execution_count": 13,
   "metadata": {},
   "outputs": [],
   "source": [
    "with open('data.pkl', 'wb') as f:\n",
    "\n",
    "    pickle.dump(data, f)"
   ]
  },
  {
   "cell_type": "code",
   "execution_count": null,
   "metadata": {},
   "outputs": [],
   "source": [
    "\n",
    "\n",
    "\n",
    "for stuff in data.items():\n",
    "    plt.imshow(stuff)\n",
    "    plt.show()\n",
    "    break"
   ]
  },
  {
   "cell_type": "code",
   "execution_count": 14,
   "metadata": {},
   "outputs": [
    {
     "name": "stdout",
     "output_type": "stream",
     "text": [
      "EDA-Copy1.ipynb                 \u001b[34mdata\u001b[m\u001b[m\r\n",
      "EDA.ipynb                       data.pkl\r\n",
      "EULA.txt                        legalcode.txt\r\n",
      "README.md                       prediction_probabilities.csv\r\n",
      "\u001b[31mcapstone_proposal_template.gdoc\u001b[m\u001b[m reads.csv\r\n",
      "cq500_files.txt\r\n"
     ]
    }
   ],
   "source": [
    "!ls"
   ]
  },
  {
   "cell_type": "code",
   "execution_count": null,
   "metadata": {},
   "outputs": [],
   "source": []
  }
 ],
 "metadata": {
  "kernelspec": {
   "display_name": "learn-env",
   "language": "python",
   "name": "learn-env"
  },
  "language_info": {
   "codemirror_mode": {
    "name": "ipython",
    "version": 3
   },
   "file_extension": ".py",
   "mimetype": "text/x-python",
   "name": "python",
   "nbconvert_exporter": "python",
   "pygments_lexer": "ipython3",
   "version": "3.7.0"
  }
 },
 "nbformat": 4,
 "nbformat_minor": 2
}
