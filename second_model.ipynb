version https://git-lfs.github.com/spec/v1
oid sha256:de91cd192144e5b9eb39867ed5eba0e93eddc2a3e55d16ef5dba3fd509d4d6d2
size 1433900
