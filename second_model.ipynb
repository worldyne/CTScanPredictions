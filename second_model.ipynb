version https://git-lfs.github.com/spec/v1
oid sha256:4540bd6e3f63ac8cb01e6ed7c708b4760551496adef57368c3e1b7ab8ef0ad81
size 949209
